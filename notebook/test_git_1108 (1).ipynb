{
  "nbformat": 4,
  "nbformat_minor": 2,
  "metadata": {
    "kernelspec": {
      "name": "synapse_pyspark",
      "display_name": "python"
    },
    "language_info": {
      "name": "python"
    },
    "save_output": true,
    "synapse_widget": {
      "version": "0.1",
      "state": {}
    }
  },
  "cells": [
    {
      "cell_type": "code",
      "execution_count": 10,
      "outputs": [
        {
          "output_type": "stream",
          "name": "stdout",
          "text": [
            "'ascii' codec can't encode characters in position 20-24: ordinal not in range(128)\n"
          ]
        }
      ],
      "metadata": {},
      "source": [
        "import pandas\n",
        "from azure.storage.blob import BlobServiceClient\n",
        "import os\n",
        "os.environ['NLS_LANG'] = \".AL32UTF8\"\n",
        "\n",
        "\n",
        "# 接続文字列を指定します\n",
        "connection_string = \"XXXX\n",
        "# BlobServiceClientを作成します\n",
        "blob_service_client = BlobServiceClient.from_connection_string(connection_string)\n",
        "\n",
        "\n",
        "def main():\n",
        "    # ファイルのURLを指定します\n",
        "    # file_url = \"YYYY\"\n",
        "    file_url = \"YYYY\"\n",
        "    # ファイルを読み込みます\n",
        "    df = pandas.read_csv(file_url, encoding=\"utf-8\")\n",
        "# 呼び出し元\n",
        "try:\n",
        "    main()\n",
        "except Exception as e:\n",
        "    print(e)\n",
        ""
      ]
    }
  ]
}